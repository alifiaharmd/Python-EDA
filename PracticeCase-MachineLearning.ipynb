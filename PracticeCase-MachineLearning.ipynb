{
 "cells": [
  {
   "cell_type": "markdown",
   "metadata": {},
   "source": [
    "# Practice Case - Machine Learning\n",
    "\n",
    "# Preprocessing\n",
    "\n",
    "Name: Alifia Cesarina Harmadi\n",
    "\n",
    "Data Fellowship Batch 6 by IYKRA"
   ]
  },
  {
   "cell_type": "code",
   "execution_count": 1,
   "metadata": {},
   "outputs": [
    {
     "name": "stdout",
     "output_type": "stream",
     "text": [
      "Rows: 541909 and Columns: 8 \n",
      "\n"
     ]
    },
    {
     "data": {
      "text/html": [
       "<div>\n",
       "<style scoped>\n",
       "    .dataframe tbody tr th:only-of-type {\n",
       "        vertical-align: middle;\n",
       "    }\n",
       "\n",
       "    .dataframe tbody tr th {\n",
       "        vertical-align: top;\n",
       "    }\n",
       "\n",
       "    .dataframe thead th {\n",
       "        text-align: right;\n",
       "    }\n",
       "</style>\n",
       "<table border=\"1\" class=\"dataframe\">\n",
       "  <thead>\n",
       "    <tr style=\"text-align: right;\">\n",
       "      <th></th>\n",
       "      <th>Kode_Bayar</th>\n",
       "      <th>Kode_Barang</th>\n",
       "      <th>Barang</th>\n",
       "      <th>Jumlah</th>\n",
       "      <th>Tanggal_Transaksi</th>\n",
       "      <th>Harga_Satuan</th>\n",
       "      <th>Kode_Pelanggan</th>\n",
       "      <th>Negara</th>\n",
       "    </tr>\n",
       "  </thead>\n",
       "  <tbody>\n",
       "    <tr>\n",
       "      <th>0</th>\n",
       "      <td>536365</td>\n",
       "      <td>85123A</td>\n",
       "      <td>WHITE HANGING HEART T-LIGHT HOLDER</td>\n",
       "      <td>6.0</td>\n",
       "      <td>12/1/2010 8:26</td>\n",
       "      <td>2.55</td>\n",
       "      <td>17850.0</td>\n",
       "      <td>United Kingdom</td>\n",
       "    </tr>\n",
       "    <tr>\n",
       "      <th>1</th>\n",
       "      <td>536365</td>\n",
       "      <td>71053</td>\n",
       "      <td>WHITE METAL LANTERN</td>\n",
       "      <td>6.0</td>\n",
       "      <td>12/1/2010 8:26</td>\n",
       "      <td>3.39</td>\n",
       "      <td>17850.0</td>\n",
       "      <td>United Kingdom</td>\n",
       "    </tr>\n",
       "    <tr>\n",
       "      <th>2</th>\n",
       "      <td>536365</td>\n",
       "      <td>84406B</td>\n",
       "      <td>CREAM CUPID HEARTS COAT HANGER</td>\n",
       "      <td>8.0</td>\n",
       "      <td>12/1/2010 8:26</td>\n",
       "      <td>2.75</td>\n",
       "      <td>17850.0</td>\n",
       "      <td>United Kingdom</td>\n",
       "    </tr>\n",
       "    <tr>\n",
       "      <th>3</th>\n",
       "      <td>536365</td>\n",
       "      <td>84029G</td>\n",
       "      <td>KNITTED UNION FLAG HOT WATER BOTTLE</td>\n",
       "      <td>6.0</td>\n",
       "      <td>12/1/2010 8:26</td>\n",
       "      <td>3.39</td>\n",
       "      <td>17850.0</td>\n",
       "      <td>United Kingdom</td>\n",
       "    </tr>\n",
       "    <tr>\n",
       "      <th>4</th>\n",
       "      <td>536365</td>\n",
       "      <td>84029E</td>\n",
       "      <td>RED WOOLLY HOTTIE WHITE HEART.</td>\n",
       "      <td>6.0</td>\n",
       "      <td>12/1/2010 8:26</td>\n",
       "      <td>3.39</td>\n",
       "      <td>17850.0</td>\n",
       "      <td>United Kingdom</td>\n",
       "    </tr>\n",
       "  </tbody>\n",
       "</table>\n",
       "</div>"
      ],
      "text/plain": [
       "  Kode_Bayar Kode_Barang                               Barang  Jumlah  \\\n",
       "0     536365      85123A   WHITE HANGING HEART T-LIGHT HOLDER     6.0   \n",
       "1     536365       71053                  WHITE METAL LANTERN     6.0   \n",
       "2     536365      84406B       CREAM CUPID HEARTS COAT HANGER     8.0   \n",
       "3     536365      84029G  KNITTED UNION FLAG HOT WATER BOTTLE     6.0   \n",
       "4     536365      84029E       RED WOOLLY HOTTIE WHITE HEART.     6.0   \n",
       "\n",
       "  Tanggal_Transaksi  Harga_Satuan  Kode_Pelanggan          Negara  \n",
       "0    12/1/2010 8:26          2.55         17850.0  United Kingdom  \n",
       "1    12/1/2010 8:26          3.39         17850.0  United Kingdom  \n",
       "2    12/1/2010 8:26          2.75         17850.0  United Kingdom  \n",
       "3    12/1/2010 8:26          3.39         17850.0  United Kingdom  \n",
       "4    12/1/2010 8:26          3.39         17850.0  United Kingdom  "
      ]
     },
     "execution_count": 1,
     "metadata": {},
     "output_type": "execute_result"
    }
   ],
   "source": [
    "#import data\n",
    "\n",
    "import pandas as pd\n",
    "import seaborn as sns\n",
    "\n",
    "path = 'C:/Users/Alifia/Downloads/ML_2_Fellow/ML_2_Fellow.csv'\n",
    "\n",
    "data = pd.read_csv(path, delimiter=',', encoding= 'unicode_escape')\n",
    "\n",
    "print(\"Rows: %d and Columns: %d \\n\" %data.shape)\n",
    "data.head(5)"
   ]
  },
  {
   "cell_type": "markdown",
   "metadata": {},
   "source": [
    "## Data Processing"
   ]
  },
  {
   "cell_type": "markdown",
   "metadata": {},
   "source": [
    "## Check data values in each columns\n",
    "### Kode_Bayar"
   ]
  },
  {
   "cell_type": "code",
   "execution_count": 2,
   "metadata": {},
   "outputs": [
    {
     "data": {
      "text/plain": [
       "573585                                                                                      1101\n",
       "581219                                                                                       742\n",
       "581492                                                                                       720\n",
       "580729                                                                                       716\n",
       "558475                                                                                       689\n",
       "                                                                                            ... \n",
       "554684,82567,\"AIRLINE LOUNGE,METAL SIGN\",5,5/25/2011 16:28,2.1,16448,United Kingdom            1\n",
       "558700,82567,\"AIRLINE LOUNGE,METAL SIGN\",1,7/1/2011 12:33,2.1,17920,United Kingdom             1\n",
       "563177                                                                                         1\n",
       "581401,90214K,\"LETTER \"\"K\"\" BLING KEY RING\",12,12/8/2011 13:43,0.29,17644,United Kingdom       1\n",
       "549106                                                                                         1\n",
       "Name: Kode_Bayar, Length: 31847, dtype: int64"
      ]
     },
     "execution_count": 2,
     "metadata": {},
     "output_type": "execute_result"
    }
   ],
   "source": [
    "#check data values\n",
    "data.Kode_Bayar.value_counts()"
   ]
  },
  {
   "cell_type": "markdown",
   "metadata": {},
   "source": [
    "There was an error when importing the csv files in Kode_Bayer. They still had commas which make the values did not turn into columns. Therefore, I select this values and manualy change it in ms. excel to make it correct.\n",
    "\n"
   ]
  },
  {
   "cell_type": "code",
   "execution_count": 3,
   "metadata": {},
   "outputs": [
    {
     "data": {
      "text/html": [
       "<div>\n",
       "<style scoped>\n",
       "    .dataframe tbody tr th:only-of-type {\n",
       "        vertical-align: middle;\n",
       "    }\n",
       "\n",
       "    .dataframe tbody tr th {\n",
       "        vertical-align: top;\n",
       "    }\n",
       "\n",
       "    .dataframe thead th {\n",
       "        text-align: right;\n",
       "    }\n",
       "</style>\n",
       "<table border=\"1\" class=\"dataframe\">\n",
       "  <thead>\n",
       "    <tr style=\"text-align: right;\">\n",
       "      <th></th>\n",
       "      <th>Kode_Bayar</th>\n",
       "      <th>Kode_Barang</th>\n",
       "      <th>Barang</th>\n",
       "      <th>Jumlah</th>\n",
       "      <th>Tanggal_Transaksi</th>\n",
       "      <th>Harga_Satuan</th>\n",
       "      <th>Kode_Pelanggan</th>\n",
       "      <th>Negara</th>\n",
       "    </tr>\n",
       "  </thead>\n",
       "  <tbody>\n",
       "    <tr>\n",
       "      <th>109</th>\n",
       "      <td>536381,82567,\"AIRLINE LOUNGE,METAL SIGN\",2,12/...</td>\n",
       "      <td>NaN</td>\n",
       "      <td>NaN</td>\n",
       "      <td>NaN</td>\n",
       "      <td>NaN</td>\n",
       "      <td>NaN</td>\n",
       "      <td>NaN</td>\n",
       "      <td>NaN</td>\n",
       "    </tr>\n",
       "    <tr>\n",
       "      <th>253</th>\n",
       "      <td>536394,21506,\"FANCY FONT BIRTHDAY CARD, \",24,1...</td>\n",
       "      <td>NaN</td>\n",
       "      <td>NaN</td>\n",
       "      <td>NaN</td>\n",
       "      <td>NaN</td>\n",
       "      <td>NaN</td>\n",
       "      <td>NaN</td>\n",
       "      <td>NaN</td>\n",
       "    </tr>\n",
       "    <tr>\n",
       "      <th>871</th>\n",
       "      <td>536477,22041,\"RECORD FRAME 7\"\" SINGLE SIZE \",4...</td>\n",
       "      <td>NaN</td>\n",
       "      <td>NaN</td>\n",
       "      <td>NaN</td>\n",
       "      <td>NaN</td>\n",
       "      <td>NaN</td>\n",
       "      <td>NaN</td>\n",
       "      <td>NaN</td>\n",
       "    </tr>\n",
       "    <tr>\n",
       "      <th>956</th>\n",
       "      <td>536520,22760,\"TRAY, BREAKFAST IN BED\",1,12/1/2...</td>\n",
       "      <td>NaN</td>\n",
       "      <td>NaN</td>\n",
       "      <td>NaN</td>\n",
       "      <td>NaN</td>\n",
       "      <td>NaN</td>\n",
       "      <td>NaN</td>\n",
       "      <td>NaN</td>\n",
       "    </tr>\n",
       "    <tr>\n",
       "      <th>1014</th>\n",
       "      <td>536520,21111,\"SWISS ROLL TOWEL, CHOCOLATE  SPO...</td>\n",
       "      <td>NaN</td>\n",
       "      <td>NaN</td>\n",
       "      <td>NaN</td>\n",
       "      <td>NaN</td>\n",
       "      <td>NaN</td>\n",
       "      <td>NaN</td>\n",
       "      <td>NaN</td>\n",
       "    </tr>\n",
       "  </tbody>\n",
       "</table>\n",
       "</div>"
      ],
      "text/plain": [
       "                                             Kode_Bayar Kode_Barang Barang  \\\n",
       "109   536381,82567,\"AIRLINE LOUNGE,METAL SIGN\",2,12/...         NaN    NaN   \n",
       "253   536394,21506,\"FANCY FONT BIRTHDAY CARD, \",24,1...         NaN    NaN   \n",
       "871   536477,22041,\"RECORD FRAME 7\"\" SINGLE SIZE \",4...         NaN    NaN   \n",
       "956   536520,22760,\"TRAY, BREAKFAST IN BED\",1,12/1/2...         NaN    NaN   \n",
       "1014  536520,21111,\"SWISS ROLL TOWEL, CHOCOLATE  SPO...         NaN    NaN   \n",
       "\n",
       "      Jumlah Tanggal_Transaksi  Harga_Satuan  Kode_Pelanggan Negara  \n",
       "109      NaN               NaN           NaN             NaN    NaN  \n",
       "253      NaN               NaN           NaN             NaN    NaN  \n",
       "871      NaN               NaN           NaN             NaN    NaN  \n",
       "956      NaN               NaN           NaN             NaN    NaN  \n",
       "1014     NaN               NaN           NaN             NaN    NaN  "
      ]
     },
     "execution_count": 3,
     "metadata": {},
     "output_type": "execute_result"
    }
   ],
   "source": [
    "#create new data except tagihan kolom dan No. kolom\n",
    "error = data[data['Kode_Barang'].isnull()]\n",
    "error = pd.DataFrame(error)\n",
    "error.head()"
   ]
  },
  {
   "cell_type": "code",
   "execution_count": 4,
   "metadata": {},
   "outputs": [],
   "source": [
    "#save the error data\n",
    "error.to_csv(r'C:/Users/Alifia/Downloads/error_data.csv', index = False)"
   ]
  },
  {
   "cell_type": "code",
   "execution_count": 5,
   "metadata": {},
   "outputs": [
    {
     "data": {
      "text/html": [
       "<div>\n",
       "<style scoped>\n",
       "    .dataframe tbody tr th:only-of-type {\n",
       "        vertical-align: middle;\n",
       "    }\n",
       "\n",
       "    .dataframe tbody tr th {\n",
       "        vertical-align: top;\n",
       "    }\n",
       "\n",
       "    .dataframe thead th {\n",
       "        text-align: right;\n",
       "    }\n",
       "</style>\n",
       "<table border=\"1\" class=\"dataframe\">\n",
       "  <thead>\n",
       "    <tr style=\"text-align: right;\">\n",
       "      <th></th>\n",
       "      <th>Kode_Bayar</th>\n",
       "      <th>Kode_Barang</th>\n",
       "      <th>Barang</th>\n",
       "      <th>Jumlah</th>\n",
       "      <th>Tanggal_Transaksi</th>\n",
       "      <th>Harga_Satuan</th>\n",
       "      <th>Kode_Pelanggan</th>\n",
       "      <th>Negara</th>\n",
       "    </tr>\n",
       "  </thead>\n",
       "  <tbody>\n",
       "    <tr>\n",
       "      <th>0</th>\n",
       "      <td>536365</td>\n",
       "      <td>85123A</td>\n",
       "      <td>WHITE HANGING HEART T-LIGHT HOLDER</td>\n",
       "      <td>6.0</td>\n",
       "      <td>12/1/2010 8:26</td>\n",
       "      <td>2.55</td>\n",
       "      <td>17850.0</td>\n",
       "      <td>United Kingdom</td>\n",
       "    </tr>\n",
       "    <tr>\n",
       "      <th>1</th>\n",
       "      <td>536365</td>\n",
       "      <td>71053</td>\n",
       "      <td>WHITE METAL LANTERN</td>\n",
       "      <td>6.0</td>\n",
       "      <td>12/1/2010 8:26</td>\n",
       "      <td>3.39</td>\n",
       "      <td>17850.0</td>\n",
       "      <td>United Kingdom</td>\n",
       "    </tr>\n",
       "    <tr>\n",
       "      <th>2</th>\n",
       "      <td>536365</td>\n",
       "      <td>84406B</td>\n",
       "      <td>CREAM CUPID HEARTS COAT HANGER</td>\n",
       "      <td>8.0</td>\n",
       "      <td>12/1/2010 8:26</td>\n",
       "      <td>2.75</td>\n",
       "      <td>17850.0</td>\n",
       "      <td>United Kingdom</td>\n",
       "    </tr>\n",
       "    <tr>\n",
       "      <th>3</th>\n",
       "      <td>536365</td>\n",
       "      <td>84029G</td>\n",
       "      <td>KNITTED UNION FLAG HOT WATER BOTTLE</td>\n",
       "      <td>6.0</td>\n",
       "      <td>12/1/2010 8:26</td>\n",
       "      <td>3.39</td>\n",
       "      <td>17850.0</td>\n",
       "      <td>United Kingdom</td>\n",
       "    </tr>\n",
       "    <tr>\n",
       "      <th>4</th>\n",
       "      <td>536365</td>\n",
       "      <td>84029E</td>\n",
       "      <td>RED WOOLLY HOTTIE WHITE HEART.</td>\n",
       "      <td>6.0</td>\n",
       "      <td>12/1/2010 8:26</td>\n",
       "      <td>3.39</td>\n",
       "      <td>17850.0</td>\n",
       "      <td>United Kingdom</td>\n",
       "    </tr>\n",
       "    <tr>\n",
       "      <th>...</th>\n",
       "      <td>...</td>\n",
       "      <td>...</td>\n",
       "      <td>...</td>\n",
       "      <td>...</td>\n",
       "      <td>...</td>\n",
       "      <td>...</td>\n",
       "      <td>...</td>\n",
       "      <td>...</td>\n",
       "    </tr>\n",
       "    <tr>\n",
       "      <th>541904</th>\n",
       "      <td>581587</td>\n",
       "      <td>22613</td>\n",
       "      <td>PACK OF 20 SPACEBOY NAPKINS</td>\n",
       "      <td>12.0</td>\n",
       "      <td>12/9/2011 12:50</td>\n",
       "      <td>0.85</td>\n",
       "      <td>12680.0</td>\n",
       "      <td>France</td>\n",
       "    </tr>\n",
       "    <tr>\n",
       "      <th>541905</th>\n",
       "      <td>581587</td>\n",
       "      <td>22899</td>\n",
       "      <td>CHILDREN'S APRON DOLLY GIRL</td>\n",
       "      <td>6.0</td>\n",
       "      <td>12/9/2011 12:50</td>\n",
       "      <td>2.10</td>\n",
       "      <td>12680.0</td>\n",
       "      <td>France</td>\n",
       "    </tr>\n",
       "    <tr>\n",
       "      <th>541906</th>\n",
       "      <td>581587</td>\n",
       "      <td>23254</td>\n",
       "      <td>CHILDRENS CUTLERY DOLLY GIRL</td>\n",
       "      <td>4.0</td>\n",
       "      <td>12/9/2011 12:50</td>\n",
       "      <td>4.15</td>\n",
       "      <td>12680.0</td>\n",
       "      <td>France</td>\n",
       "    </tr>\n",
       "    <tr>\n",
       "      <th>541907</th>\n",
       "      <td>581587</td>\n",
       "      <td>23255</td>\n",
       "      <td>CHILDRENS CUTLERY CIRCUS PARADE</td>\n",
       "      <td>4.0</td>\n",
       "      <td>12/9/2011 12:50</td>\n",
       "      <td>4.15</td>\n",
       "      <td>12680.0</td>\n",
       "      <td>France</td>\n",
       "    </tr>\n",
       "    <tr>\n",
       "      <th>541908</th>\n",
       "      <td>581587</td>\n",
       "      <td>22138</td>\n",
       "      <td>BAKING SET 9 PIECE RETROSPOT</td>\n",
       "      <td>3.0</td>\n",
       "      <td>12/9/2011 12:50</td>\n",
       "      <td>4.95</td>\n",
       "      <td>12680.0</td>\n",
       "      <td>France</td>\n",
       "    </tr>\n",
       "  </tbody>\n",
       "</table>\n",
       "<p>535874 rows × 8 columns</p>\n",
       "</div>"
      ],
      "text/plain": [
       "       Kode_Bayar Kode_Barang                               Barang  Jumlah  \\\n",
       "0          536365      85123A   WHITE HANGING HEART T-LIGHT HOLDER     6.0   \n",
       "1          536365       71053                  WHITE METAL LANTERN     6.0   \n",
       "2          536365      84406B       CREAM CUPID HEARTS COAT HANGER     8.0   \n",
       "3          536365      84029G  KNITTED UNION FLAG HOT WATER BOTTLE     6.0   \n",
       "4          536365      84029E       RED WOOLLY HOTTIE WHITE HEART.     6.0   \n",
       "...           ...         ...                                  ...     ...   \n",
       "541904     581587       22613          PACK OF 20 SPACEBOY NAPKINS    12.0   \n",
       "541905     581587       22899         CHILDREN'S APRON DOLLY GIRL      6.0   \n",
       "541906     581587       23254        CHILDRENS CUTLERY DOLLY GIRL      4.0   \n",
       "541907     581587       23255      CHILDRENS CUTLERY CIRCUS PARADE     4.0   \n",
       "541908     581587       22138        BAKING SET 9 PIECE RETROSPOT      3.0   \n",
       "\n",
       "       Tanggal_Transaksi  Harga_Satuan  Kode_Pelanggan          Negara  \n",
       "0         12/1/2010 8:26          2.55         17850.0  United Kingdom  \n",
       "1         12/1/2010 8:26          3.39         17850.0  United Kingdom  \n",
       "2         12/1/2010 8:26          2.75         17850.0  United Kingdom  \n",
       "3         12/1/2010 8:26          3.39         17850.0  United Kingdom  \n",
       "4         12/1/2010 8:26          3.39         17850.0  United Kingdom  \n",
       "...                  ...           ...             ...             ...  \n",
       "541904   12/9/2011 12:50          0.85         12680.0          France  \n",
       "541905   12/9/2011 12:50          2.10         12680.0          France  \n",
       "541906   12/9/2011 12:50          4.15         12680.0          France  \n",
       "541907   12/9/2011 12:50          4.15         12680.0          France  \n",
       "541908   12/9/2011 12:50          4.95         12680.0          France  \n",
       "\n",
       "[535874 rows x 8 columns]"
      ]
     },
     "execution_count": 5,
     "metadata": {},
     "output_type": "execute_result"
    }
   ],
   "source": [
    "#drop error data\n",
    "data = data.dropna(subset=['Kode_Barang'])\n",
    "data"
   ]
  },
  {
   "cell_type": "code",
   "execution_count": 6,
   "metadata": {},
   "outputs": [
    {
     "data": {
      "text/html": [
       "<div>\n",
       "<style scoped>\n",
       "    .dataframe tbody tr th:only-of-type {\n",
       "        vertical-align: middle;\n",
       "    }\n",
       "\n",
       "    .dataframe tbody tr th {\n",
       "        vertical-align: top;\n",
       "    }\n",
       "\n",
       "    .dataframe thead th {\n",
       "        text-align: right;\n",
       "    }\n",
       "</style>\n",
       "<table border=\"1\" class=\"dataframe\">\n",
       "  <thead>\n",
       "    <tr style=\"text-align: right;\">\n",
       "      <th></th>\n",
       "      <th>Kode_Bayar</th>\n",
       "      <th>Kode_Barang</th>\n",
       "      <th>Barang</th>\n",
       "      <th>Jumlah</th>\n",
       "      <th>Tanggal_Transaksi</th>\n",
       "      <th>Harga_Satuan</th>\n",
       "      <th>Kode_Pelanggan</th>\n",
       "      <th>Negara</th>\n",
       "    </tr>\n",
       "  </thead>\n",
       "  <tbody>\n",
       "    <tr>\n",
       "      <th>0</th>\n",
       "      <td>536381</td>\n",
       "      <td>82567</td>\n",
       "      <td>AIRLINE LOUNGE,METAL SIGN</td>\n",
       "      <td>2</td>\n",
       "      <td>12/1/2010 9:41</td>\n",
       "      <td>2.10</td>\n",
       "      <td>15311.0</td>\n",
       "      <td>United Kingdom</td>\n",
       "    </tr>\n",
       "    <tr>\n",
       "      <th>1</th>\n",
       "      <td>536394</td>\n",
       "      <td>21506</td>\n",
       "      <td>FANCY FONT BIRTHDAY CARD,</td>\n",
       "      <td>24</td>\n",
       "      <td>12/1/2010 10:39</td>\n",
       "      <td>0.42</td>\n",
       "      <td>13408.0</td>\n",
       "      <td>United Kingdom</td>\n",
       "    </tr>\n",
       "    <tr>\n",
       "      <th>2</th>\n",
       "      <td>536477</td>\n",
       "      <td>22041</td>\n",
       "      <td>RECORD FRAME 7\" SINGLE SIZE</td>\n",
       "      <td>48</td>\n",
       "      <td>12/1/2010 12:27</td>\n",
       "      <td>2.10</td>\n",
       "      <td>16210.0</td>\n",
       "      <td>United Kingdom</td>\n",
       "    </tr>\n",
       "    <tr>\n",
       "      <th>3</th>\n",
       "      <td>536520</td>\n",
       "      <td>22760</td>\n",
       "      <td>TRAY, BREAKFAST IN BED</td>\n",
       "      <td>1</td>\n",
       "      <td>12/1/2010 12:43</td>\n",
       "      <td>12.75</td>\n",
       "      <td>14729.0</td>\n",
       "      <td>United Kingdom</td>\n",
       "    </tr>\n",
       "    <tr>\n",
       "      <th>4</th>\n",
       "      <td>536520</td>\n",
       "      <td>21111</td>\n",
       "      <td>SWISS ROLL TOWEL, CHOCOLATE  SPOTS</td>\n",
       "      <td>1</td>\n",
       "      <td>12/1/2010 12:43</td>\n",
       "      <td>2.95</td>\n",
       "      <td>14729.0</td>\n",
       "      <td>United Kingdom</td>\n",
       "    </tr>\n",
       "  </tbody>\n",
       "</table>\n",
       "</div>"
      ],
      "text/plain": [
       "  Kode_Bayar Kode_Barang                              Barang  Jumlah  \\\n",
       "0     536381       82567           AIRLINE LOUNGE,METAL SIGN       2   \n",
       "1     536394       21506          FANCY FONT BIRTHDAY CARD,       24   \n",
       "2     536477       22041        RECORD FRAME 7\" SINGLE SIZE       48   \n",
       "3     536520       22760              TRAY, BREAKFAST IN BED       1   \n",
       "4     536520       21111  SWISS ROLL TOWEL, CHOCOLATE  SPOTS       1   \n",
       "\n",
       "  Tanggal_Transaksi  Harga_Satuan  Kode_Pelanggan          Negara  \n",
       "0    12/1/2010 9:41          2.10         15311.0  United Kingdom  \n",
       "1   12/1/2010 10:39          0.42         13408.0  United Kingdom  \n",
       "2   12/1/2010 12:27          2.10         16210.0  United Kingdom  \n",
       "3   12/1/2010 12:43         12.75         14729.0  United Kingdom  \n",
       "4   12/1/2010 12:43          2.95         14729.0  United Kingdom  "
      ]
     },
     "execution_count": 6,
     "metadata": {},
     "output_type": "execute_result"
    }
   ],
   "source": [
    "#import cleaned error data and concat it to the data\n",
    "er_df = pd.read_csv(r'C:/Users/Alifia/Downloads/cleaned_er_data.csv', encoding= 'unicode_escape')\n",
    "er_df.head()"
   ]
  },
  {
   "cell_type": "code",
   "execution_count": 7,
   "metadata": {},
   "outputs": [
    {
     "name": "stdout",
     "output_type": "stream",
     "text": [
      "Rows: 541909 and Columns: 8 \n",
      "\n"
     ]
    },
    {
     "data": {
      "text/html": [
       "<div>\n",
       "<style scoped>\n",
       "    .dataframe tbody tr th:only-of-type {\n",
       "        vertical-align: middle;\n",
       "    }\n",
       "\n",
       "    .dataframe tbody tr th {\n",
       "        vertical-align: top;\n",
       "    }\n",
       "\n",
       "    .dataframe thead th {\n",
       "        text-align: right;\n",
       "    }\n",
       "</style>\n",
       "<table border=\"1\" class=\"dataframe\">\n",
       "  <thead>\n",
       "    <tr style=\"text-align: right;\">\n",
       "      <th></th>\n",
       "      <th>Kode_Bayar</th>\n",
       "      <th>Kode_Barang</th>\n",
       "      <th>Barang</th>\n",
       "      <th>Jumlah</th>\n",
       "      <th>Tanggal_Transaksi</th>\n",
       "      <th>Harga_Satuan</th>\n",
       "      <th>Kode_Pelanggan</th>\n",
       "      <th>Negara</th>\n",
       "    </tr>\n",
       "  </thead>\n",
       "  <tbody>\n",
       "    <tr>\n",
       "      <th>0</th>\n",
       "      <td>536365</td>\n",
       "      <td>85123A</td>\n",
       "      <td>WHITE HANGING HEART T-LIGHT HOLDER</td>\n",
       "      <td>6.0</td>\n",
       "      <td>12/1/2010 8:26</td>\n",
       "      <td>2.55</td>\n",
       "      <td>17850.0</td>\n",
       "      <td>United Kingdom</td>\n",
       "    </tr>\n",
       "    <tr>\n",
       "      <th>1</th>\n",
       "      <td>536365</td>\n",
       "      <td>71053</td>\n",
       "      <td>WHITE METAL LANTERN</td>\n",
       "      <td>6.0</td>\n",
       "      <td>12/1/2010 8:26</td>\n",
       "      <td>3.39</td>\n",
       "      <td>17850.0</td>\n",
       "      <td>United Kingdom</td>\n",
       "    </tr>\n",
       "    <tr>\n",
       "      <th>2</th>\n",
       "      <td>536365</td>\n",
       "      <td>84406B</td>\n",
       "      <td>CREAM CUPID HEARTS COAT HANGER</td>\n",
       "      <td>8.0</td>\n",
       "      <td>12/1/2010 8:26</td>\n",
       "      <td>2.75</td>\n",
       "      <td>17850.0</td>\n",
       "      <td>United Kingdom</td>\n",
       "    </tr>\n",
       "    <tr>\n",
       "      <th>3</th>\n",
       "      <td>536365</td>\n",
       "      <td>84029G</td>\n",
       "      <td>KNITTED UNION FLAG HOT WATER BOTTLE</td>\n",
       "      <td>6.0</td>\n",
       "      <td>12/1/2010 8:26</td>\n",
       "      <td>3.39</td>\n",
       "      <td>17850.0</td>\n",
       "      <td>United Kingdom</td>\n",
       "    </tr>\n",
       "    <tr>\n",
       "      <th>4</th>\n",
       "      <td>536365</td>\n",
       "      <td>84029E</td>\n",
       "      <td>RED WOOLLY HOTTIE WHITE HEART.</td>\n",
       "      <td>6.0</td>\n",
       "      <td>12/1/2010 8:26</td>\n",
       "      <td>3.39</td>\n",
       "      <td>17850.0</td>\n",
       "      <td>United Kingdom</td>\n",
       "    </tr>\n",
       "  </tbody>\n",
       "</table>\n",
       "</div>"
      ],
      "text/plain": [
       "  Kode_Bayar Kode_Barang                               Barang  Jumlah  \\\n",
       "0     536365      85123A   WHITE HANGING HEART T-LIGHT HOLDER     6.0   \n",
       "1     536365       71053                  WHITE METAL LANTERN     6.0   \n",
       "2     536365      84406B       CREAM CUPID HEARTS COAT HANGER     8.0   \n",
       "3     536365      84029G  KNITTED UNION FLAG HOT WATER BOTTLE     6.0   \n",
       "4     536365      84029E       RED WOOLLY HOTTIE WHITE HEART.     6.0   \n",
       "\n",
       "  Tanggal_Transaksi  Harga_Satuan  Kode_Pelanggan          Negara  \n",
       "0    12/1/2010 8:26          2.55         17850.0  United Kingdom  \n",
       "1    12/1/2010 8:26          3.39         17850.0  United Kingdom  \n",
       "2    12/1/2010 8:26          2.75         17850.0  United Kingdom  \n",
       "3    12/1/2010 8:26          3.39         17850.0  United Kingdom  \n",
       "4    12/1/2010 8:26          3.39         17850.0  United Kingdom  "
      ]
     },
     "execution_count": 7,
     "metadata": {},
     "output_type": "execute_result"
    }
   ],
   "source": [
    "df = pd.concat([data,er_df],ignore_index=True)\n",
    "print(\"Rows: %d and Columns: %d \\n\" %df.shape)\n",
    "df.sort_values('Kode_Bayar')\n",
    "df.head()"
   ]
  },
  {
   "cell_type": "code",
   "execution_count": 8,
   "metadata": {},
   "outputs": [
    {
     "data": {
      "text/plain": [
       "573585    1114\n",
       "581219     749\n",
       "581492     731\n",
       "580729     721\n",
       "558475     705\n",
       "          ... \n",
       "579409       1\n",
       "565755       1\n",
       "556947       1\n",
       "574884       1\n",
       "549106       1\n",
       "Name: Kode_Bayar, Length: 25900, dtype: int64"
      ]
     },
     "execution_count": 8,
     "metadata": {},
     "output_type": "execute_result"
    }
   ],
   "source": [
    "#check data values\n",
    "df.Kode_Bayar.value_counts()"
   ]
  },
  {
   "cell_type": "markdown",
   "metadata": {},
   "source": [
    "There was no more issues with the commas in Kode_Bayar column"
   ]
  },
  {
   "cell_type": "markdown",
   "metadata": {},
   "source": [
    "### Removed cancel transaction in the data, it was indicated by \"C\" in front of Kode_Bayar values"
   ]
  },
  {
   "cell_type": "code",
   "execution_count": 9,
   "metadata": {},
   "outputs": [
    {
     "data": {
      "text/plain": [
       "False    100.0\n",
       "Name: Kode_Bayar, dtype: float64"
      ]
     },
     "execution_count": 9,
     "metadata": {},
     "output_type": "execute_result"
    }
   ],
   "source": [
    "df = df[~df.Kode_Bayar.str.contains(\"C\", na=False)]\n",
    "df['Kode_Bayar'].str.contains(\"C\").value_counts()/df.shape[0]*100"
   ]
  },
  {
   "cell_type": "markdown",
   "metadata": {},
   "source": [
    "### Kode_Barang"
   ]
  },
  {
   "cell_type": "code",
   "execution_count": 10,
   "metadata": {},
   "outputs": [
    {
     "data": {
      "text/plain": [
       "85123A      2271\n",
       "85099B      2115\n",
       "22423       2022\n",
       "47566       1707\n",
       "20725       1595\n",
       "            ... \n",
       "DCGS0004       1\n",
       "46776a         1\n",
       "84546          1\n",
       "35015          1\n",
       "79323LP        1\n",
       "Name: Kode_Barang, Length: 4059, dtype: int64"
      ]
     },
     "execution_count": 10,
     "metadata": {},
     "output_type": "execute_result"
    }
   ],
   "source": [
    "#check data values\n",
    "df.Kode_Barang.value_counts()"
   ]
  },
  {
   "cell_type": "markdown",
   "metadata": {},
   "source": [
    "### Barang"
   ]
  },
  {
   "cell_type": "code",
   "execution_count": 11,
   "metadata": {},
   "outputs": [
    {
     "data": {
      "text/plain": [
       "WHITE HANGING HEART T-LIGHT HOLDER     2327\n",
       "JUMBO BAG RED RETROSPOT                2115\n",
       "REGENCY CAKESTAND 3 TIER               2019\n",
       "PARTY BUNTING                          1707\n",
       "LUNCH BAG RED RETROSPOT                1594\n",
       "                                       ... \n",
       "did  a credit  and did not tick ret       1\n",
       "PEG BAG APPLE DESIGN                      1\n",
       "PAPER CRAFT , LITTLE BIRDIE               1\n",
       "FLOWER FAIRY 5 SUMMER DRAW LINERS         1\n",
       "PINK FLOCK PHOTO FRAME                    1\n",
       "Name: Barang, Length: 4207, dtype: int64"
      ]
     },
     "execution_count": 11,
     "metadata": {},
     "output_type": "execute_result"
    }
   ],
   "source": [
    "#check data values\n",
    "df.Barang.value_counts()"
   ]
  },
  {
   "cell_type": "markdown",
   "metadata": {},
   "source": [
    "### Jumlah"
   ]
  },
  {
   "cell_type": "code",
   "execution_count": 12,
   "metadata": {},
   "outputs": [
    {
     "data": {
      "text/plain": [
       " 1.0       148227\n",
       " 2.0        81829\n",
       " 12.0       61063\n",
       " 6.0        40868\n",
       " 4.0        38484\n",
       "            ...  \n",
       "-88.0           1\n",
       " 4300.0         1\n",
       "-840.0          1\n",
       "-271.0          1\n",
       " 2040.0         1\n",
       "Name: Jumlah, Length: 691, dtype: int64"
      ]
     },
     "execution_count": 12,
     "metadata": {},
     "output_type": "execute_result"
    }
   ],
   "source": [
    "#check data values\n",
    "df.Jumlah.value_counts()"
   ]
  },
  {
   "cell_type": "markdown",
   "metadata": {},
   "source": [
    "### Removed minus value in the Jumlah column, giving an assumption that it means damage/broken Barang"
   ]
  },
  {
   "cell_type": "code",
   "execution_count": 13,
   "metadata": {},
   "outputs": [
    {
     "name": "stdout",
     "output_type": "stream",
     "text": [
      "False    100.0\n",
      "Name: Jumlah, dtype: float64\n"
     ]
    }
   ],
   "source": [
    "df[\"Jumlah\"] = df[\"Jumlah\"].astype(str)\n",
    "df = df[~df.Jumlah.str.contains(\"-\", na=False)]\n",
    "print(df['Jumlah'].str.contains(\"-\").value_counts()/df.shape[0]*100)\n",
    "df[\"Jumlah\"] = df[\"Jumlah\"].astype('float64')"
   ]
  },
  {
   "cell_type": "code",
   "execution_count": 14,
   "metadata": {},
   "outputs": [
    {
     "data": {
      "text/plain": [
       "dtype('int64')"
      ]
     },
     "execution_count": 14,
     "metadata": {},
     "output_type": "execute_result"
    }
   ],
   "source": [
    "#chang the data type into integer\n",
    "df[\"Jumlah\"] = df[\"Jumlah\"].astype('int64')\n",
    "df[\"Jumlah\"].dtype"
   ]
  },
  {
   "cell_type": "markdown",
   "metadata": {},
   "source": [
    "### Tanggal_Transaksi"
   ]
  },
  {
   "cell_type": "code",
   "execution_count": 15,
   "metadata": {},
   "outputs": [
    {
     "data": {
      "text/plain": [
       "10/31/2011 14:41    1114\n",
       "12/8/2011 9:28       749\n",
       "12/9/2011 10:03      731\n",
       "12/5/2011 17:24      721\n",
       "6/29/2011 15:58      705\n",
       "                    ... \n",
       "8/24/2011 9:00         1\n",
       "1/26/2011 12:35        1\n",
       "7/7/2011 17:01         1\n",
       "4/26/2011 13:12        1\n",
       "3/17/2011 18:28        1\n",
       "Name: Tanggal_Transaksi, Length: 19052, dtype: int64"
      ]
     },
     "execution_count": 15,
     "metadata": {},
     "output_type": "execute_result"
    }
   ],
   "source": [
    "#check data values\n",
    "df.Tanggal_Transaksi.value_counts()"
   ]
  },
  {
   "cell_type": "markdown",
   "metadata": {},
   "source": [
    "### Harga_Satuan"
   ]
  },
  {
   "cell_type": "code",
   "execution_count": 16,
   "metadata": {},
   "outputs": [
    {
     "data": {
      "text/plain": [
       "1.25       49753\n",
       "1.65       37498\n",
       "0.85       28061\n",
       "2.95       27106\n",
       "0.42       24302\n",
       "           ...  \n",
       "283.00         1\n",
       "836.14         1\n",
       "208.34         1\n",
       "2196.67        1\n",
       "192.54         1\n",
       "Name: Harga_Satuan, Length: 1293, dtype: int64"
      ]
     },
     "execution_count": 16,
     "metadata": {},
     "output_type": "execute_result"
    }
   ],
   "source": [
    "#check data values\n",
    "df.Harga_Satuan.value_counts()"
   ]
  },
  {
   "cell_type": "markdown",
   "metadata": {},
   "source": [
    "### Kode_Pelanggan"
   ]
  },
  {
   "cell_type": "code",
   "execution_count": 17,
   "metadata": {},
   "outputs": [
    {
     "data": {
      "text/plain": [
       "17841.0    7847\n",
       "14911.0    5677\n",
       "14096.0    5111\n",
       "12748.0    4596\n",
       "14606.0    2700\n",
       "           ... \n",
       "15524.0       1\n",
       "15562.0       1\n",
       "15657.0       1\n",
       "15668.0       1\n",
       "12346.0       1\n",
       "Name: Kode_Pelanggan, Length: 4339, dtype: int64"
      ]
     },
     "execution_count": 17,
     "metadata": {},
     "output_type": "execute_result"
    }
   ],
   "source": [
    "#check data values\n",
    "df.Kode_Pelanggan.value_counts()"
   ]
  },
  {
   "cell_type": "markdown",
   "metadata": {},
   "source": [
    "### Negara"
   ]
  },
  {
   "cell_type": "code",
   "execution_count": 18,
   "metadata": {},
   "outputs": [
    {
     "data": {
      "text/plain": [
       "United Kingdom          486286\n",
       "Germany                   9042\n",
       "France                    8408\n",
       "EIRE                      7894\n",
       "Spain                     2485\n",
       "Netherlands               2363\n",
       "Belgium                   2031\n",
       "Switzerland               1967\n",
       "Portugal                  1501\n",
       "Australia                 1185\n",
       "Norway                    1072\n",
       "Italy                      758\n",
       "Channel Islands            748\n",
       "Finland                    685\n",
       "Cyprus                     614\n",
       "Sweden                     451\n",
       "Unspecified                446\n",
       "Austria                    398\n",
       "Denmark                    380\n",
       "Poland                     330\n",
       "Japan                      321\n",
       "Israel                     295\n",
       "Hong Kong                  284\n",
       "Singapore                  222\n",
       "Iceland                    182\n",
       "USA                        179\n",
       "Canada                     151\n",
       "Greece                     145\n",
       "Malta                      112\n",
       "United Arab Emirates        68\n",
       "European Community          60\n",
       "RSA                         58\n",
       "Lebanon                     45\n",
       "Lithuania                   35\n",
       "Brazil                      32\n",
       "Czech Republic              25\n",
       "Bahrain                     18\n",
       "Saudi Arabia                 9\n",
       "Name: Negara, dtype: int64"
      ]
     },
     "execution_count": 18,
     "metadata": {},
     "output_type": "execute_result"
    }
   ],
   "source": [
    "#check data values\n",
    "df.Negara.value_counts()"
   ]
  },
  {
   "cell_type": "markdown",
   "metadata": {},
   "source": [
    "### check data types"
   ]
  },
  {
   "cell_type": "code",
   "execution_count": 19,
   "metadata": {},
   "outputs": [
    {
     "data": {
      "text/plain": [
       "Kode_Bayar            object\n",
       "Kode_Barang           object\n",
       "Barang                object\n",
       "Jumlah                 int64\n",
       "Tanggal_Transaksi     object\n",
       "Harga_Satuan         float64\n",
       "Kode_Pelanggan       float64\n",
       "Negara                object\n",
       "dtype: object"
      ]
     },
     "execution_count": 19,
     "metadata": {},
     "output_type": "execute_result"
    }
   ],
   "source": [
    "#check data types\n",
    "df.dtypes"
   ]
  },
  {
   "cell_type": "markdown",
   "metadata": {},
   "source": [
    "- replace data type Kode_Pelanggan column into string."
   ]
  },
  {
   "cell_type": "code",
   "execution_count": 20,
   "metadata": {},
   "outputs": [],
   "source": [
    "#replace into string/object\n",
    "df[\"Kode_Pelanggan\"] = df[\"Kode_Pelanggan\"].astype(str)"
   ]
  },
  {
   "cell_type": "markdown",
   "metadata": {},
   "source": [
    "- replace data type Tanggal_Transaksi column into datetime."
   ]
  },
  {
   "cell_type": "code",
   "execution_count": 21,
   "metadata": {
    "scrolled": false
   },
   "outputs": [
    {
     "name": "stdout",
     "output_type": "stream",
     "text": [
      "Kode_Bayar                   object\n",
      "Kode_Barang                  object\n",
      "Barang                       object\n",
      "Jumlah                        int64\n",
      "Tanggal_Transaksi    datetime64[ns]\n",
      "Harga_Satuan                float64\n",
      "Kode_Pelanggan               object\n",
      "Negara                       object\n",
      "dtype: object\n"
     ]
    },
    {
     "data": {
      "text/html": [
       "<div>\n",
       "<style scoped>\n",
       "    .dataframe tbody tr th:only-of-type {\n",
       "        vertical-align: middle;\n",
       "    }\n",
       "\n",
       "    .dataframe tbody tr th {\n",
       "        vertical-align: top;\n",
       "    }\n",
       "\n",
       "    .dataframe thead th {\n",
       "        text-align: right;\n",
       "    }\n",
       "</style>\n",
       "<table border=\"1\" class=\"dataframe\">\n",
       "  <thead>\n",
       "    <tr style=\"text-align: right;\">\n",
       "      <th></th>\n",
       "      <th>Kode_Bayar</th>\n",
       "      <th>Kode_Barang</th>\n",
       "      <th>Barang</th>\n",
       "      <th>Jumlah</th>\n",
       "      <th>Tanggal_Transaksi</th>\n",
       "      <th>Harga_Satuan</th>\n",
       "      <th>Kode_Pelanggan</th>\n",
       "      <th>Negara</th>\n",
       "    </tr>\n",
       "  </thead>\n",
       "  <tbody>\n",
       "    <tr>\n",
       "      <th>0</th>\n",
       "      <td>536365</td>\n",
       "      <td>85123A</td>\n",
       "      <td>WHITE HANGING HEART T-LIGHT HOLDER</td>\n",
       "      <td>6</td>\n",
       "      <td>2010-12-01 08:26:00</td>\n",
       "      <td>2.55</td>\n",
       "      <td>17850.0</td>\n",
       "      <td>United Kingdom</td>\n",
       "    </tr>\n",
       "    <tr>\n",
       "      <th>1</th>\n",
       "      <td>536365</td>\n",
       "      <td>71053</td>\n",
       "      <td>WHITE METAL LANTERN</td>\n",
       "      <td>6</td>\n",
       "      <td>2010-12-01 08:26:00</td>\n",
       "      <td>3.39</td>\n",
       "      <td>17850.0</td>\n",
       "      <td>United Kingdom</td>\n",
       "    </tr>\n",
       "    <tr>\n",
       "      <th>2</th>\n",
       "      <td>536365</td>\n",
       "      <td>84406B</td>\n",
       "      <td>CREAM CUPID HEARTS COAT HANGER</td>\n",
       "      <td>8</td>\n",
       "      <td>2010-12-01 08:26:00</td>\n",
       "      <td>2.75</td>\n",
       "      <td>17850.0</td>\n",
       "      <td>United Kingdom</td>\n",
       "    </tr>\n",
       "    <tr>\n",
       "      <th>3</th>\n",
       "      <td>536365</td>\n",
       "      <td>84029G</td>\n",
       "      <td>KNITTED UNION FLAG HOT WATER BOTTLE</td>\n",
       "      <td>6</td>\n",
       "      <td>2010-12-01 08:26:00</td>\n",
       "      <td>3.39</td>\n",
       "      <td>17850.0</td>\n",
       "      <td>United Kingdom</td>\n",
       "    </tr>\n",
       "    <tr>\n",
       "      <th>4</th>\n",
       "      <td>536365</td>\n",
       "      <td>84029E</td>\n",
       "      <td>RED WOOLLY HOTTIE WHITE HEART.</td>\n",
       "      <td>6</td>\n",
       "      <td>2010-12-01 08:26:00</td>\n",
       "      <td>3.39</td>\n",
       "      <td>17850.0</td>\n",
       "      <td>United Kingdom</td>\n",
       "    </tr>\n",
       "  </tbody>\n",
       "</table>\n",
       "</div>"
      ],
      "text/plain": [
       "  Kode_Bayar Kode_Barang                               Barang  Jumlah  \\\n",
       "0     536365      85123A   WHITE HANGING HEART T-LIGHT HOLDER       6   \n",
       "1     536365       71053                  WHITE METAL LANTERN       6   \n",
       "2     536365      84406B       CREAM CUPID HEARTS COAT HANGER       8   \n",
       "3     536365      84029G  KNITTED UNION FLAG HOT WATER BOTTLE       6   \n",
       "4     536365      84029E       RED WOOLLY HOTTIE WHITE HEART.       6   \n",
       "\n",
       "    Tanggal_Transaksi  Harga_Satuan Kode_Pelanggan          Negara  \n",
       "0 2010-12-01 08:26:00          2.55        17850.0  United Kingdom  \n",
       "1 2010-12-01 08:26:00          3.39        17850.0  United Kingdom  \n",
       "2 2010-12-01 08:26:00          2.75        17850.0  United Kingdom  \n",
       "3 2010-12-01 08:26:00          3.39        17850.0  United Kingdom  \n",
       "4 2010-12-01 08:26:00          3.39        17850.0  United Kingdom  "
      ]
     },
     "execution_count": 21,
     "metadata": {},
     "output_type": "execute_result"
    }
   ],
   "source": [
    "#replace into dateime\n",
    "from datetime import datetime\n",
    "\n",
    "df[\"Tanggal_Transaksi\"] = pd.to_datetime(df[\"Tanggal_Transaksi\"],errors='coerce')\n",
    "print(df.dtypes)\n",
    "df.head()"
   ]
  },
  {
   "cell_type": "markdown",
   "metadata": {},
   "source": [
    "### create a new column of 'TotalPrice' that contains the total price of every purchase"
   ]
  },
  {
   "cell_type": "code",
   "execution_count": 22,
   "metadata": {},
   "outputs": [],
   "source": [
    "df['TotalHarga'] = df['Harga_Satuan'] * df['Jumlah']"
   ]
  },
  {
   "cell_type": "markdown",
   "metadata": {},
   "source": [
    "### check null values"
   ]
  },
  {
   "cell_type": "code",
   "execution_count": 23,
   "metadata": {},
   "outputs": [
    {
     "data": {
      "text/plain": [
       "Kode_Bayar           0.000000\n",
       "Kode_Barang          0.000000\n",
       "Barang               0.110474\n",
       "Jumlah               0.000000\n",
       "Tanggal_Transaksi    0.000000\n",
       "Harga_Satuan         0.000000\n",
       "Kode_Pelanggan       0.000000\n",
       "Negara               0.000000\n",
       "TotalHarga           0.000000\n",
       "dtype: float64"
      ]
     },
     "execution_count": 23,
     "metadata": {},
     "output_type": "execute_result"
    }
   ],
   "source": [
    "#check the percentages of null values\n",
    "df.isnull().sum() / data.shape[0] * 100"
   ]
  },
  {
   "cell_type": "markdown",
   "metadata": {},
   "source": [
    "### check data distribution"
   ]
  },
  {
   "cell_type": "code",
   "execution_count": 24,
   "metadata": {},
   "outputs": [
    {
     "data": {
      "text/html": [
       "<div>\n",
       "<style scoped>\n",
       "    .dataframe tbody tr th:only-of-type {\n",
       "        vertical-align: middle;\n",
       "    }\n",
       "\n",
       "    .dataframe tbody tr th {\n",
       "        vertical-align: top;\n",
       "    }\n",
       "\n",
       "    .dataframe thead th {\n",
       "        text-align: right;\n",
       "    }\n",
       "</style>\n",
       "<table border=\"1\" class=\"dataframe\">\n",
       "  <thead>\n",
       "    <tr style=\"text-align: right;\">\n",
       "      <th></th>\n",
       "      <th>Jumlah</th>\n",
       "      <th>Harga_Satuan</th>\n",
       "      <th>TotalHarga</th>\n",
       "    </tr>\n",
       "  </thead>\n",
       "  <tbody>\n",
       "    <tr>\n",
       "      <th>count</th>\n",
       "      <td>531285.000000</td>\n",
       "      <td>531285.000000</td>\n",
       "      <td>531285.00000</td>\n",
       "    </tr>\n",
       "    <tr>\n",
       "      <th>mean</th>\n",
       "      <td>10.655262</td>\n",
       "      <td>3.857296</td>\n",
       "      <td>20.03550</td>\n",
       "    </tr>\n",
       "    <tr>\n",
       "      <th>std</th>\n",
       "      <td>156.830323</td>\n",
       "      <td>41.810047</td>\n",
       "      <td>270.91237</td>\n",
       "    </tr>\n",
       "    <tr>\n",
       "      <th>min</th>\n",
       "      <td>1.000000</td>\n",
       "      <td>-11062.060000</td>\n",
       "      <td>-11062.06000</td>\n",
       "    </tr>\n",
       "    <tr>\n",
       "      <th>25%</th>\n",
       "      <td>1.000000</td>\n",
       "      <td>1.250000</td>\n",
       "      <td>3.75000</td>\n",
       "    </tr>\n",
       "    <tr>\n",
       "      <th>50%</th>\n",
       "      <td>3.000000</td>\n",
       "      <td>2.080000</td>\n",
       "      <td>9.90000</td>\n",
       "    </tr>\n",
       "    <tr>\n",
       "      <th>75%</th>\n",
       "      <td>10.000000</td>\n",
       "      <td>4.130000</td>\n",
       "      <td>17.70000</td>\n",
       "    </tr>\n",
       "    <tr>\n",
       "      <th>max</th>\n",
       "      <td>80995.000000</td>\n",
       "      <td>13541.330000</td>\n",
       "      <td>168469.60000</td>\n",
       "    </tr>\n",
       "  </tbody>\n",
       "</table>\n",
       "</div>"
      ],
      "text/plain": [
       "              Jumlah   Harga_Satuan    TotalHarga\n",
       "count  531285.000000  531285.000000  531285.00000\n",
       "mean       10.655262       3.857296      20.03550\n",
       "std       156.830323      41.810047     270.91237\n",
       "min         1.000000  -11062.060000  -11062.06000\n",
       "25%         1.000000       1.250000       3.75000\n",
       "50%         3.000000       2.080000       9.90000\n",
       "75%        10.000000       4.130000      17.70000\n",
       "max     80995.000000   13541.330000  168469.60000"
      ]
     },
     "execution_count": 24,
     "metadata": {},
     "output_type": "execute_result"
    }
   ],
   "source": [
    "#check data\n",
    "df.describe()"
   ]
  },
  {
   "cell_type": "markdown",
   "metadata": {},
   "source": [
    "### save file for exploration"
   ]
  },
  {
   "cell_type": "code",
   "execution_count": 25,
   "metadata": {},
   "outputs": [],
   "source": [
    "df.to_csv(r'C:/Users/Alifia/Downloads/ml_data.csv', index = False)"
   ]
  },
  {
   "cell_type": "markdown",
   "metadata": {},
   "source": [
    "## Exploration in Tableau\n",
    "Link: https://public.tableau.com/app/profile/alifia.c.harmadi/viz/SupermarketData_16250626153460/Dashboard1"
   ]
  },
  {
   "cell_type": "code",
   "execution_count": null,
   "metadata": {},
   "outputs": [],
   "source": []
  },
  {
   "cell_type": "markdown",
   "metadata": {},
   "source": [
    "## Customer segmentation"
   ]
  },
  {
   "cell_type": "markdown",
   "metadata": {},
   "source": [
    "### RFM\n",
    "\n",
    "RFM segmentation allows marketers to target specific clusters of customers with communications that are much more relevant for their particular behavior – and thus generate much higher rates of response, plus increased loyalty and customer lifetime value. \n",
    "\n",
    "Source: https://www.optimove.com/resources/learning-center/rfm-segmentation"
   ]
  },
  {
   "cell_type": "code",
   "execution_count": 26,
   "metadata": {},
   "outputs": [
    {
     "data": {
      "text/plain": [
       "Timestamp('2011-12-09 12:50:00')"
      ]
     },
     "execution_count": 26,
     "metadata": {},
     "output_type": "execute_result"
    }
   ],
   "source": [
    "# Calculate recency, relative recency and relative frequency\n",
    "import numpy as np\n",
    "from datetime import date\n",
    "\n",
    "# Take the maximum tanggal transaksi as last\n",
    "last = df['Tanggal_Transaksi'].max()\n",
    "last"
   ]
  },
  {
   "cell_type": "markdown",
   "metadata": {},
   "source": [
    "### Recency"
   ]
  },
  {
   "cell_type": "code",
   "execution_count": 27,
   "metadata": {},
   "outputs": [],
   "source": [
    "#get last purchased each customer\n",
    "df_recency = df.groupby(['Kode_Pelanggan'],as_index=False)['Tanggal_Transaksi'].max()\n",
    "df_recency.columns = ['Kode_Pelanggan','Transaksi_Terakhir']\n",
    "df_recency['Recency'] = (last - df_recency['Transaksi_Terakhir'])/ np.timedelta64(1,'D')\n",
    "df_recency.drop(columns=['Transaksi_Terakhir'],inplace=True)"
   ]
  },
  {
   "cell_type": "code",
   "execution_count": 28,
   "metadata": {},
   "outputs": [
    {
     "data": {
      "text/html": [
       "<div>\n",
       "<style scoped>\n",
       "    .dataframe tbody tr th:only-of-type {\n",
       "        vertical-align: middle;\n",
       "    }\n",
       "\n",
       "    .dataframe tbody tr th {\n",
       "        vertical-align: top;\n",
       "    }\n",
       "\n",
       "    .dataframe thead th {\n",
       "        text-align: right;\n",
       "    }\n",
       "</style>\n",
       "<table border=\"1\" class=\"dataframe\">\n",
       "  <thead>\n",
       "    <tr style=\"text-align: right;\">\n",
       "      <th></th>\n",
       "      <th>Kode_Pelanggan</th>\n",
       "      <th>Recency</th>\n",
       "    </tr>\n",
       "  </thead>\n",
       "  <tbody>\n",
       "    <tr>\n",
       "      <th>0</th>\n",
       "      <td>12346.0</td>\n",
       "      <td>325</td>\n",
       "    </tr>\n",
       "    <tr>\n",
       "      <th>1</th>\n",
       "      <td>12347.0</td>\n",
       "      <td>1</td>\n",
       "    </tr>\n",
       "    <tr>\n",
       "      <th>2</th>\n",
       "      <td>12348.0</td>\n",
       "      <td>74</td>\n",
       "    </tr>\n",
       "    <tr>\n",
       "      <th>3</th>\n",
       "      <td>12349.0</td>\n",
       "      <td>18</td>\n",
       "    </tr>\n",
       "    <tr>\n",
       "      <th>4</th>\n",
       "      <td>12350.0</td>\n",
       "      <td>309</td>\n",
       "    </tr>\n",
       "    <tr>\n",
       "      <th>...</th>\n",
       "      <td>...</td>\n",
       "      <td>...</td>\n",
       "    </tr>\n",
       "    <tr>\n",
       "      <th>4335</th>\n",
       "      <td>18281.0</td>\n",
       "      <td>180</td>\n",
       "    </tr>\n",
       "    <tr>\n",
       "      <th>4336</th>\n",
       "      <td>18282.0</td>\n",
       "      <td>7</td>\n",
       "    </tr>\n",
       "    <tr>\n",
       "      <th>4337</th>\n",
       "      <td>18283.0</td>\n",
       "      <td>3</td>\n",
       "    </tr>\n",
       "    <tr>\n",
       "      <th>4338</th>\n",
       "      <td>18287.0</td>\n",
       "      <td>42</td>\n",
       "    </tr>\n",
       "    <tr>\n",
       "      <th>4339</th>\n",
       "      <td>nan</td>\n",
       "      <td>0</td>\n",
       "    </tr>\n",
       "  </tbody>\n",
       "</table>\n",
       "<p>4340 rows × 2 columns</p>\n",
       "</div>"
      ],
      "text/plain": [
       "     Kode_Pelanggan  Recency\n",
       "0           12346.0      325\n",
       "1           12347.0        1\n",
       "2           12348.0       74\n",
       "3           12349.0       18\n",
       "4           12350.0      309\n",
       "...             ...      ...\n",
       "4335        18281.0      180\n",
       "4336        18282.0        7\n",
       "4337        18283.0        3\n",
       "4338        18287.0       42\n",
       "4339            nan        0\n",
       "\n",
       "[4340 rows x 2 columns]"
      ]
     },
     "execution_count": 28,
     "metadata": {},
     "output_type": "execute_result"
    }
   ],
   "source": [
    "df_recency['Recency'] = df_recency['Recency'].astype(int)\n",
    "df_recency"
   ]
  },
  {
   "cell_type": "markdown",
   "metadata": {},
   "source": [
    "### Frequency"
   ]
  },
  {
   "cell_type": "code",
   "execution_count": 29,
   "metadata": {},
   "outputs": [
    {
     "data": {
      "text/html": [
       "<div>\n",
       "<style scoped>\n",
       "    .dataframe tbody tr th:only-of-type {\n",
       "        vertical-align: middle;\n",
       "    }\n",
       "\n",
       "    .dataframe tbody tr th {\n",
       "        vertical-align: top;\n",
       "    }\n",
       "\n",
       "    .dataframe thead th {\n",
       "        text-align: right;\n",
       "    }\n",
       "</style>\n",
       "<table border=\"1\" class=\"dataframe\">\n",
       "  <thead>\n",
       "    <tr style=\"text-align: right;\">\n",
       "      <th></th>\n",
       "      <th>Kode_Pelanggan</th>\n",
       "      <th>Frequency</th>\n",
       "    </tr>\n",
       "  </thead>\n",
       "  <tbody>\n",
       "    <tr>\n",
       "      <th>0</th>\n",
       "      <td>12346.0</td>\n",
       "      <td>1</td>\n",
       "    </tr>\n",
       "    <tr>\n",
       "      <th>1</th>\n",
       "      <td>12347.0</td>\n",
       "      <td>7</td>\n",
       "    </tr>\n",
       "    <tr>\n",
       "      <th>2</th>\n",
       "      <td>12348.0</td>\n",
       "      <td>4</td>\n",
       "    </tr>\n",
       "    <tr>\n",
       "      <th>3</th>\n",
       "      <td>12349.0</td>\n",
       "      <td>1</td>\n",
       "    </tr>\n",
       "    <tr>\n",
       "      <th>4</th>\n",
       "      <td>12350.0</td>\n",
       "      <td>1</td>\n",
       "    </tr>\n",
       "  </tbody>\n",
       "</table>\n",
       "</div>"
      ],
      "text/plain": [
       "  Kode_Pelanggan  Frequency\n",
       "0        12346.0          1\n",
       "1        12347.0          7\n",
       "2        12348.0          4\n",
       "3        12349.0          1\n",
       "4        12350.0          1"
      ]
     },
     "execution_count": 29,
     "metadata": {},
     "output_type": "execute_result"
    }
   ],
   "source": [
    "#get customer's buying frequency\n",
    "df_freq = df.copy() \n",
    "df_freq.drop_duplicates(subset=['Kode_Pelanggan','Kode_Bayar'], keep=\"first\", inplace=True)\n",
    "df_freq = df_freq.groupby('Kode_Pelanggan',as_index=False)['Kode_Bayar'].count()\n",
    "df_freq.columns = ['Kode_Pelanggan','Frequency']\n",
    "df_freq.head()"
   ]
  },
  {
   "cell_type": "markdown",
   "metadata": {},
   "source": [
    "### Monetary"
   ]
  },
  {
   "cell_type": "code",
   "execution_count": 30,
   "metadata": {},
   "outputs": [
    {
     "data": {
      "text/html": [
       "<div>\n",
       "<style scoped>\n",
       "    .dataframe tbody tr th:only-of-type {\n",
       "        vertical-align: middle;\n",
       "    }\n",
       "\n",
       "    .dataframe tbody tr th {\n",
       "        vertical-align: top;\n",
       "    }\n",
       "\n",
       "    .dataframe thead th {\n",
       "        text-align: right;\n",
       "    }\n",
       "</style>\n",
       "<table border=\"1\" class=\"dataframe\">\n",
       "  <thead>\n",
       "    <tr style=\"text-align: right;\">\n",
       "      <th></th>\n",
       "      <th>Kode_Pelanggan</th>\n",
       "      <th>Monetary</th>\n",
       "    </tr>\n",
       "  </thead>\n",
       "  <tbody>\n",
       "    <tr>\n",
       "      <th>0</th>\n",
       "      <td>12346.0</td>\n",
       "      <td>77183.60</td>\n",
       "    </tr>\n",
       "    <tr>\n",
       "      <th>1</th>\n",
       "      <td>12347.0</td>\n",
       "      <td>4310.00</td>\n",
       "    </tr>\n",
       "    <tr>\n",
       "      <th>2</th>\n",
       "      <td>12348.0</td>\n",
       "      <td>1797.24</td>\n",
       "    </tr>\n",
       "    <tr>\n",
       "      <th>3</th>\n",
       "      <td>12349.0</td>\n",
       "      <td>1757.55</td>\n",
       "    </tr>\n",
       "    <tr>\n",
       "      <th>4</th>\n",
       "      <td>12350.0</td>\n",
       "      <td>334.40</td>\n",
       "    </tr>\n",
       "  </tbody>\n",
       "</table>\n",
       "</div>"
      ],
      "text/plain": [
       "  Kode_Pelanggan  Monetary\n",
       "0        12346.0  77183.60\n",
       "1        12347.0   4310.00\n",
       "2        12348.0   1797.24\n",
       "3        12349.0   1757.55\n",
       "4        12350.0    334.40"
      ]
     },
     "execution_count": 30,
     "metadata": {},
     "output_type": "execute_result"
    }
   ],
   "source": [
    "df_mon=df.groupby('Kode_Pelanggan',as_index=False)['TotalHarga'].sum()\n",
    "df_mon.columns = ['Kode_Pelanggan','Monetary']\n",
    "df_mon.head()"
   ]
  },
  {
   "cell_type": "markdown",
   "metadata": {},
   "source": [
    "### Merge the data"
   ]
  },
  {
   "cell_type": "code",
   "execution_count": 31,
   "metadata": {},
   "outputs": [
    {
     "data": {
      "text/html": [
       "<div>\n",
       "<style scoped>\n",
       "    .dataframe tbody tr th:only-of-type {\n",
       "        vertical-align: middle;\n",
       "    }\n",
       "\n",
       "    .dataframe tbody tr th {\n",
       "        vertical-align: top;\n",
       "    }\n",
       "\n",
       "    .dataframe thead th {\n",
       "        text-align: right;\n",
       "    }\n",
       "</style>\n",
       "<table border=\"1\" class=\"dataframe\">\n",
       "  <thead>\n",
       "    <tr style=\"text-align: right;\">\n",
       "      <th></th>\n",
       "      <th>Recency</th>\n",
       "      <th>Frequency</th>\n",
       "      <th>Monetary</th>\n",
       "    </tr>\n",
       "    <tr>\n",
       "      <th>Kode_Pelanggan</th>\n",
       "      <th></th>\n",
       "      <th></th>\n",
       "      <th></th>\n",
       "    </tr>\n",
       "  </thead>\n",
       "  <tbody>\n",
       "    <tr>\n",
       "      <th>12346.0</th>\n",
       "      <td>325</td>\n",
       "      <td>1</td>\n",
       "      <td>77183.60</td>\n",
       "    </tr>\n",
       "    <tr>\n",
       "      <th>12347.0</th>\n",
       "      <td>1</td>\n",
       "      <td>7</td>\n",
       "      <td>4310.00</td>\n",
       "    </tr>\n",
       "    <tr>\n",
       "      <th>12348.0</th>\n",
       "      <td>74</td>\n",
       "      <td>4</td>\n",
       "      <td>1797.24</td>\n",
       "    </tr>\n",
       "    <tr>\n",
       "      <th>12349.0</th>\n",
       "      <td>18</td>\n",
       "      <td>1</td>\n",
       "      <td>1757.55</td>\n",
       "    </tr>\n",
       "    <tr>\n",
       "      <th>12350.0</th>\n",
       "      <td>309</td>\n",
       "      <td>1</td>\n",
       "      <td>334.40</td>\n",
       "    </tr>\n",
       "  </tbody>\n",
       "</table>\n",
       "</div>"
      ],
      "text/plain": [
       "                Recency  Frequency  Monetary\n",
       "Kode_Pelanggan                              \n",
       "12346.0             325          1  77183.60\n",
       "12347.0               1          7   4310.00\n",
       "12348.0              74          4   1797.24\n",
       "12349.0              18          1   1757.55\n",
       "12350.0             309          1    334.40"
      ]
     },
     "execution_count": 31,
     "metadata": {},
     "output_type": "execute_result"
    }
   ],
   "source": [
    "# join the data\n",
    "\n",
    "rf = df_recency.merge(df_freq,left_on='Kode_Pelanggan',right_on='Kode_Pelanggan')\n",
    "rfm = rf.merge(df_mon,left_on='Kode_Pelanggan',right_on='Kode_Pelanggan')\n",
    "rfm.set_index('Kode_Pelanggan',inplace=True)\n",
    "rfm.head()\n",
    "\n"
   ]
  },
  {
   "cell_type": "code",
   "execution_count": 32,
   "metadata": {},
   "outputs": [
    {
     "data": {
      "image/png": "[encoded data removed]",
      "text/plain": [
       "<Figure size 432x288 with 1 Axes>"
      ]
     },
     "metadata": {
      "needs_background": "light"
     },
     "output_type": "display_data"
    }
   ],
   "source": [
    "import matplotlib.pyplot as plt\n",
    "from sklearn.cluster import KMeans\n",
    "\n",
    "#copy data for clustering\n",
    "rfm_seg = rfm.copy()\n",
    "\n",
    "#find the number of cluster with elbow\n",
    "Num = range(1, 15)\n",
    "kmeans = [KMeans(n_clusters=i) for i in Num]\n",
    "score = [kmeans[i].fit(rfm_seg).score(rfm_seg) for i in range(len(kmeans))]\n",
    "plt.plot(Num,score)\n",
    "plt.title('Elbow Curve')\n",
    "plt.show()"
   ]
  },
  {
   "cell_type": "code",
   "execution_count": 33,
   "metadata": {},
   "outputs": [
    {
     "data": {
      "text/html": [
       "<div>\n",
       "<style scoped>\n",
       "    .dataframe tbody tr th:only-of-type {\n",
       "        vertical-align: middle;\n",
       "    }\n",
       "\n",
       "    .dataframe tbody tr th {\n",
       "        vertical-align: top;\n",
       "    }\n",
       "\n",
       "    .dataframe thead th {\n",
       "        text-align: right;\n",
       "    }\n",
       "</style>\n",
       "<table border=\"1\" class=\"dataframe\">\n",
       "  <thead>\n",
       "    <tr style=\"text-align: right;\">\n",
       "      <th></th>\n",
       "      <th>Recency</th>\n",
       "      <th>Frequency</th>\n",
       "      <th>Monetary</th>\n",
       "      <th>cluster</th>\n",
       "    </tr>\n",
       "    <tr>\n",
       "      <th>Kode_Pelanggan</th>\n",
       "      <th></th>\n",
       "      <th></th>\n",
       "      <th></th>\n",
       "      <th></th>\n",
       "    </tr>\n",
       "  </thead>\n",
       "  <tbody>\n",
       "    <tr>\n",
       "      <th>12346.0</th>\n",
       "      <td>325</td>\n",
       "      <td>1</td>\n",
       "      <td>77183.60</td>\n",
       "      <td>0</td>\n",
       "    </tr>\n",
       "    <tr>\n",
       "      <th>12347.0</th>\n",
       "      <td>1</td>\n",
       "      <td>7</td>\n",
       "      <td>4310.00</td>\n",
       "      <td>0</td>\n",
       "    </tr>\n",
       "    <tr>\n",
       "      <th>12348.0</th>\n",
       "      <td>74</td>\n",
       "      <td>4</td>\n",
       "      <td>1797.24</td>\n",
       "      <td>0</td>\n",
       "    </tr>\n",
       "    <tr>\n",
       "      <th>12349.0</th>\n",
       "      <td>18</td>\n",
       "      <td>1</td>\n",
       "      <td>1757.55</td>\n",
       "      <td>0</td>\n",
       "    </tr>\n",
       "    <tr>\n",
       "      <th>12350.0</th>\n",
       "      <td>309</td>\n",
       "      <td>1</td>\n",
       "      <td>334.40</td>\n",
       "      <td>0</td>\n",
       "    </tr>\n",
       "    <tr>\n",
       "      <th>12352.0</th>\n",
       "      <td>35</td>\n",
       "      <td>8</td>\n",
       "      <td>2506.04</td>\n",
       "      <td>0</td>\n",
       "    </tr>\n",
       "    <tr>\n",
       "      <th>12353.0</th>\n",
       "      <td>203</td>\n",
       "      <td>1</td>\n",
       "      <td>89.00</td>\n",
       "      <td>0</td>\n",
       "    </tr>\n",
       "    <tr>\n",
       "      <th>12354.0</th>\n",
       "      <td>231</td>\n",
       "      <td>1</td>\n",
       "      <td>1079.40</td>\n",
       "      <td>0</td>\n",
       "    </tr>\n",
       "    <tr>\n",
       "      <th>12355.0</th>\n",
       "      <td>213</td>\n",
       "      <td>1</td>\n",
       "      <td>459.40</td>\n",
       "      <td>0</td>\n",
       "    </tr>\n",
       "    <tr>\n",
       "      <th>12356.0</th>\n",
       "      <td>22</td>\n",
       "      <td>3</td>\n",
       "      <td>2811.43</td>\n",
       "      <td>0</td>\n",
       "    </tr>\n",
       "  </tbody>\n",
       "</table>\n",
       "</div>"
      ],
      "text/plain": [
       "                Recency  Frequency  Monetary  cluster\n",
       "Kode_Pelanggan                                       \n",
       "12346.0             325          1  77183.60        0\n",
       "12347.0               1          7   4310.00        0\n",
       "12348.0              74          4   1797.24        0\n",
       "12349.0              18          1   1757.55        0\n",
       "12350.0             309          1    334.40        0\n",
       "12352.0              35          8   2506.04        0\n",
       "12353.0             203          1     89.00        0\n",
       "12354.0             231          1   1079.40        0\n",
       "12355.0             213          1    459.40        0\n",
       "12356.0              22          3   2811.43        0"
      ]
     },
     "execution_count": 33,
     "metadata": {},
     "output_type": "execute_result"
    }
   ],
   "source": [
    "#we find that the optimal cluster is 3 from the plot\n",
    "\n",
    "#fit the kmeans\n",
    "kmeans = KMeans(n_clusters=3, random_state=0).fit(rfm_seg)\n",
    "rfm_seg['cluster'] = kmeans.labels_\n",
    "rfm_seg[rfm_seg.cluster == 0].head(10)\n",
    "\n"
   ]
  },
  {
   "cell_type": "code",
   "execution_count": 34,
   "metadata": {},
   "outputs": [],
   "source": [
    "#create the function for applying score\n",
    "def RScore(x,p,d):\n",
    "    if x <= d[p][0.25]:\n",
    "        return 1\n",
    "    elif x <= d[p][0.50]:\n",
    "        return 2\n",
    "    elif x <= d[p][0.75]: \n",
    "        return 3\n",
    "    else:\n",
    "        return 4\n",
    "\n",
    "def FMScore(x,p,d):\n",
    "    if x <= d[p][0.25]:\n",
    "        return 4\n",
    "    elif x <= d[p][0.50]:\n",
    "        return 3\n",
    "    elif x <= d[p][0.75]: \n",
    "        return 2\n",
    "    else:\n",
    "        return 1"
   ]
  },
  {
   "cell_type": "code",
   "execution_count": 35,
   "metadata": {},
   "outputs": [],
   "source": [
    "#get the quantile from rfm data\n",
    "quantile = rfm.quantile(q=[0.25,0.5,0.75])"
   ]
  },
  {
   "cell_type": "code",
   "execution_count": 36,
   "metadata": {},
   "outputs": [],
   "source": [
    "#apply the value in rfm_seg data\n",
    "rfm_seg['R'] = rfm_seg['Recency'].apply(RScore,args=('Recency',quantile))\n",
    "rfm_seg['F'] = rfm_seg['Frequency'].apply(FMScore, args=('Frequency',quantile))\n",
    "rfm_seg['M'] = rfm_seg['Monetary'].apply(FMScore, args=('Monetary',quantile))"
   ]
  },
  {
   "cell_type": "code",
   "execution_count": 37,
   "metadata": {},
   "outputs": [],
   "source": [
    "#create new column called RFM.\n",
    "#The value from this column will determine the customers segmentation\n",
    "rfm_seg['RFM'] = rfm_seg.R.map(str) + rfm_seg.F.map(str) + rfm_seg.M.map(str)"
   ]
  },
  {
   "cell_type": "code",
   "execution_count": 38,
   "metadata": {},
   "outputs": [
    {
     "data": {
      "text/html": [
       "<div>\n",
       "<style scoped>\n",
       "    .dataframe tbody tr th:only-of-type {\n",
       "        vertical-align: middle;\n",
       "    }\n",
       "\n",
       "    .dataframe tbody tr th {\n",
       "        vertical-align: top;\n",
       "    }\n",
       "\n",
       "    .dataframe thead th {\n",
       "        text-align: right;\n",
       "    }\n",
       "</style>\n",
       "<table border=\"1\" class=\"dataframe\">\n",
       "  <thead>\n",
       "    <tr style=\"text-align: right;\">\n",
       "      <th></th>\n",
       "      <th>Recency</th>\n",
       "      <th>Frequency</th>\n",
       "      <th>Monetary</th>\n",
       "      <th>cluster</th>\n",
       "      <th>R</th>\n",
       "      <th>F</th>\n",
       "      <th>M</th>\n",
       "      <th>RFM</th>\n",
       "    </tr>\n",
       "    <tr>\n",
       "      <th>Kode_Pelanggan</th>\n",
       "      <th></th>\n",
       "      <th></th>\n",
       "      <th></th>\n",
       "      <th></th>\n",
       "      <th></th>\n",
       "      <th></th>\n",
       "      <th></th>\n",
       "      <th></th>\n",
       "    </tr>\n",
       "  </thead>\n",
       "  <tbody>\n",
       "    <tr>\n",
       "      <th>12346.0</th>\n",
       "      <td>325</td>\n",
       "      <td>1</td>\n",
       "      <td>77183.60</td>\n",
       "      <td>0</td>\n",
       "      <td>4</td>\n",
       "      <td>4</td>\n",
       "      <td>1</td>\n",
       "      <td>441</td>\n",
       "    </tr>\n",
       "    <tr>\n",
       "      <th>12347.0</th>\n",
       "      <td>1</td>\n",
       "      <td>7</td>\n",
       "      <td>4310.00</td>\n",
       "      <td>0</td>\n",
       "      <td>1</td>\n",
       "      <td>1</td>\n",
       "      <td>1</td>\n",
       "      <td>111</td>\n",
       "    </tr>\n",
       "    <tr>\n",
       "      <th>12348.0</th>\n",
       "      <td>74</td>\n",
       "      <td>4</td>\n",
       "      <td>1797.24</td>\n",
       "      <td>0</td>\n",
       "      <td>3</td>\n",
       "      <td>2</td>\n",
       "      <td>1</td>\n",
       "      <td>321</td>\n",
       "    </tr>\n",
       "    <tr>\n",
       "      <th>12349.0</th>\n",
       "      <td>18</td>\n",
       "      <td>1</td>\n",
       "      <td>1757.55</td>\n",
       "      <td>0</td>\n",
       "      <td>2</td>\n",
       "      <td>4</td>\n",
       "      <td>1</td>\n",
       "      <td>241</td>\n",
       "    </tr>\n",
       "    <tr>\n",
       "      <th>12350.0</th>\n",
       "      <td>309</td>\n",
       "      <td>1</td>\n",
       "      <td>334.40</td>\n",
       "      <td>0</td>\n",
       "      <td>4</td>\n",
       "      <td>4</td>\n",
       "      <td>3</td>\n",
       "      <td>443</td>\n",
       "    </tr>\n",
       "  </tbody>\n",
       "</table>\n",
       "</div>"
      ],
      "text/plain": [
       "                Recency  Frequency  Monetary  cluster  R  F  M  RFM\n",
       "Kode_Pelanggan                                                     \n",
       "12346.0             325          1  77183.60        0  4  4  1  441\n",
       "12347.0               1          7   4310.00        0  1  1  1  111\n",
       "12348.0              74          4   1797.24        0  3  2  1  321\n",
       "12349.0              18          1   1757.55        0  2  4  1  241\n",
       "12350.0             309          1    334.40        0  4  4  3  443"
      ]
     },
     "execution_count": 38,
     "metadata": {},
     "output_type": "execute_result"
    }
   ],
   "source": [
    "rfm_seg.head()"
   ]
  },
  {
   "cell_type": "markdown",
   "metadata": {},
   "source": [
    "### RFM info\n",
    "\n",
    "- Best Customers = This group consists of those customers who are found in R-Tier-1, F-Tier-1 and M-Tier-1 (RFM = 111)\n",
    "- High-spending New Customers =  This group consists of those customers in 1-4-1 and 1-4-2\n",
    "- Lowest-Spending Active Loyal Customers = This group consists of those customers in segments 1-1-3 and 1-1-4 (they transacted recently and do so often, but spend the least).\n",
    "- Churned Best Customers = This segment consists of those customers in groups 4-1-1, 4-1-2, 4-2-1 and 4-2-2 (they transacted frequently and spent a lot, but it’s been a long time since they’ve transacted).\n",
    "\n",
    "reference: https://www.optimove.com/resources/learning-center/rfm-segmentation"
   ]
  },
  {
   "cell_type": "code",
   "execution_count": 41,
   "metadata": {},
   "outputs": [
    {
     "name": "stdout",
     "output_type": "stream",
     "text": [
      "Best Customers:  462\n",
      "High-spending Customers:  1085\n",
      "Lowest-Spending Customers:  1085\n",
      "Loyal Customers:  873\n",
      "Potentialy Churned Customers:  1084\n",
      "Active Customers:  873\n",
      "Spending Customers:  1085\n"
     ]
    }
   ],
   "source": [
    "#see the number of each customer segmentation\n",
    "print(\"Best Customers: \",len(rfm_seg[rfm_seg['RFM']=='111']))\n",
    "print('High-spending Customers: ',len(rfm_seg[rfm_seg['M']==1]))\n",
    "print(\"Lowest-Spending Customers: \",len(rfm_seg[rfm_seg['M']==4]))\n",
    "print('Loyal Customers: ',len(rfm_seg[rfm_seg['F']==1]))\n",
    "print(\"Potentialy Churned Customers: \",len(rfm_seg[rfm_seg['R']==4]))\n",
    "print('Active Customers: ',len(rfm_seg[rfm_seg['F']==1]))\n",
    "print(\"Spending Customers: \",len(rfm_seg[rfm_seg['M']==1]))"
   ]
  },
  {
   "cell_type": "code",
   "execution_count": null,
   "metadata": {},
   "outputs": [],
   "source": []
  },
  {
   "cell_type": "code",
   "execution_count": null,
   "metadata": {},
   "outputs": [],
   "source": []
  }
 ],
 "metadata": {
  "kernelspec": {
   "display_name": "Python 3",
   "language": "python",
   "name": "python3"
  },
  "language_info": {
   "codemirror_mode": {
    "name": "ipython",
    "version": 3
   },
   "file_extension": ".py",
   "mimetype": "text/x-python",
   "name": "python",
   "nbconvert_exporter": "python",
   "pygments_lexer": "ipython3",
   "version": "3.7.6"
  }
 },
 "nbformat": 4,
 "nbformat_minor": 4
}
